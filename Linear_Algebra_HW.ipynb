{
 "cells": [
  {
   "cell_type": "markdown",
   "metadata": {},
   "source": [
    "## Challenge 1: Matrix Operations\n",
    "\n",
    "A =  [[1 2]\n",
    "      [3 4]]\n",
    "      \n",
    "B = [[-2.   1. ]\n",
    "     [ 1.5 -0.5]]\n",
    "     \n",
    "C = [[1 2 3]\n",
    "     [4 5 6]]\n",
    "     \n",
    "Given matrix A and B, mutiply AB - call this mat1. Mutiply BA - call this mat2. Are these matrix inverses?\n",
    "\n",
    "Given matrix C, create an identity matrix - call it id1 to multiply C*id1- call this mat3.\n",
    "\n",
    "Given matrix C, create an identity matrix - call it id2 to multiply id2*C- call this mat4."
   ]
  },
  {
   "cell_type": "markdown",
   "metadata": {},
   "source": [
    "## Challenge 2: Solving Linear Systems \n",
    "\n",
    "Find the solution to the following system:\n",
    "\n",
    "\n",
    "\n",
    "$1x + 2y + 3z = 11$\n",
    "\n",
    "$4x + 5y + 6z = -13$\n",
    "\n",
    "$5x + 7y + 9z = -8$"
   ]
  },
  {
   "cell_type": "code",
   "execution_count": 5,
   "metadata": {},
   "outputs": [],
   "source": [
    "import numpy as np\n",
    "matrix2 = np.array(\n",
    "    [[-1, 2],\n",
    "     [1, -2]])"
   ]
  },
  {
   "cell_type": "markdown",
   "metadata": {},
   "source": [
    "## Challenge 3: Eigendecomposition\n",
    "\n",
    "Can the following matrix be eigendecomposed?"
   ]
  },
  {
   "cell_type": "code",
   "execution_count": 7,
   "metadata": {},
   "outputs": [
    {
     "name": "stdout",
     "output_type": "stream",
     "text": [
      "[[-1  2]\n",
      " [ 1 -2]]\n"
     ]
    }
   ],
   "source": [
    "challenge_matrix = matrix2\n",
    "print(challenge_matrix)"
   ]
  },
  {
   "cell_type": "markdown",
   "metadata": {},
   "source": [
    "## Challenge 4: General Problem\n",
    "The matrix A has ($1, 2, 1)^T$ and $(1, 1, 0)^T$ as eigenvectors, both with eigenvalue 7, and its trace is 2.\n",
    "Find the determinant of A"
   ]
  }
 ],
 "metadata": {
  "kernelspec": {
   "display_name": "Python 3",
   "language": "python",
   "name": "python3"
  },
  "language_info": {
   "codemirror_mode": {
    "name": "ipython",
    "version": 3
   },
   "file_extension": ".py",
   "mimetype": "text/x-python",
   "name": "python",
   "nbconvert_exporter": "python",
   "pygments_lexer": "ipython3",
   "version": "3.6.4"
  }
 },
 "nbformat": 4,
 "nbformat_minor": 2
}
